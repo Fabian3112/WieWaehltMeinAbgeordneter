{
 "cells": [
  {
   "cell_type": "markdown",
   "metadata": {},
   "source": [
    "### Imports"
   ]
  },
  {
   "cell_type": "code",
   "execution_count": 83,
   "metadata": {},
   "outputs": [],
   "source": [
    "import os\n",
    "import requests\n",
    "import pdfplumber\n",
    "import re\n",
    "import pandas as pd"
   ]
  },
  {
   "cell_type": "markdown",
   "metadata": {},
   "source": [
    "### Paths"
   ]
  },
  {
   "cell_type": "code",
   "execution_count": 107,
   "metadata": {},
   "outputs": [],
   "source": [
    "CWD = os.path.join(os.getcwd())\n",
    "SOURCE_PATH = os.path.join(CWD, 'csv', 'gesetze.csv')\n",
    "TARGET_PATH = os.path.join(CWD, 'csv', 'gesetze_mit_drucksachen.csv')\n",
    "DRUCKSACHE_PATH = os.path.join(CWD, 'csv', 'drucksachen_details.csv')\n",
    "DRUCKSACHE_WITH_DESC_PATH = os.path.join(CWD, 'csv', 'drucksachen_details_with_desc.csv')\n",
    "API_KEY = 'I9FKdCn.hbfefNWCY336dL6x62vfwNKpoN2RZ1gp21'"
   ]
  },
  {
   "cell_type": "markdown",
   "metadata": {},
   "source": [
    "### Load data"
   ]
  },
  {
   "cell_type": "code",
   "execution_count": 85,
   "metadata": {},
   "outputs": [
    {
     "data": {
      "text/html": [
       "<div>\n",
       "<style scoped>\n",
       "    .dataframe tbody tr th:only-of-type {\n",
       "        vertical-align: middle;\n",
       "    }\n",
       "\n",
       "    .dataframe tbody tr th {\n",
       "        vertical-align: top;\n",
       "    }\n",
       "\n",
       "    .dataframe thead th {\n",
       "        text-align: right;\n",
       "    }\n",
       "</style>\n",
       "<table border=\"1\" class=\"dataframe\">\n",
       "  <thead>\n",
       "    <tr style=\"text-align: right;\">\n",
       "      <th></th>\n",
       "      <th>Unnamed: 0</th>\n",
       "      <th>date</th>\n",
       "      <th>title</th>\n",
       "      <th>id</th>\n",
       "      <th>topic</th>\n",
       "      <th>url</th>\n",
       "      <th>drucksache</th>\n",
       "    </tr>\n",
       "  </thead>\n",
       "  <tbody>\n",
       "    <tr>\n",
       "      <th>0</th>\n",
       "      <td>0</td>\n",
       "      <td>2024-12-19</td>\n",
       "      <td>Gesetzentwurf zur Änderung von Artikel 93 und ...</td>\n",
       "      <td>939</td>\n",
       "      <td>Geschäftsordnung</td>\n",
       "      <td>/parlament/plenum/abstimmung/abstimmung?id=939</td>\n",
       "      <td>['https://dserver.bundestag.de/btd/20/129/2012...</td>\n",
       "    </tr>\n",
       "    <tr>\n",
       "      <th>1</th>\n",
       "      <td>1</td>\n",
       "      <td>2024-12-16</td>\n",
       "      <td>Antrag gemäß Artikel 68 des Grundgesetzes (Ver...</td>\n",
       "      <td>938</td>\n",
       "      <td>Parlament</td>\n",
       "      <td>/parlament/plenum/abstimmung/abstimmung?id=938</td>\n",
       "      <td>['https://dserver.bundestag.de/btd/20/141/2014...</td>\n",
       "    </tr>\n",
       "    <tr>\n",
       "      <th>2</th>\n",
       "      <td>2</td>\n",
       "      <td>2024-10-18</td>\n",
       "      <td>Änderungsantrag zur „Verbesserung der inneren ...</td>\n",
       "      <td>929</td>\n",
       "      <td>Inneres</td>\n",
       "      <td>/parlament/plenum/abstimmung/abstimmung?id=929</td>\n",
       "      <td>['https://dserver.bundestag.de/btd/20/128/2012...</td>\n",
       "    </tr>\n",
       "    <tr>\n",
       "      <th>3</th>\n",
       "      <td>3</td>\n",
       "      <td>2024-10-18</td>\n",
       "      <td>Artikel 5 des Entwurfs „Verbesserung der inner...</td>\n",
       "      <td>930</td>\n",
       "      <td>Inneres</td>\n",
       "      <td>/parlament/plenum/abstimmung/abstimmung?id=930</td>\n",
       "      <td>['https://dserver.bundestag.de/btd/20/128/2012...</td>\n",
       "    </tr>\n",
       "    <tr>\n",
       "      <th>4</th>\n",
       "      <td>4</td>\n",
       "      <td>2024-10-18</td>\n",
       "      <td>Gesetzentwurf „Verbesserung der Terrorismusbek...</td>\n",
       "      <td>931</td>\n",
       "      <td>Inneres</td>\n",
       "      <td>/parlament/plenum/abstimmung/abstimmung?id=931</td>\n",
       "      <td>['https://dserver.bundestag.de/btd/20/128/2012...</td>\n",
       "    </tr>\n",
       "  </tbody>\n",
       "</table>\n",
       "</div>"
      ],
      "text/plain": [
       "   Unnamed: 0        date                                              title  \\\n",
       "0           0  2024-12-19  Gesetzentwurf zur Änderung von Artikel 93 und ...   \n",
       "1           1  2024-12-16  Antrag gemäß Artikel 68 des Grundgesetzes (Ver...   \n",
       "2           2  2024-10-18  Änderungsantrag zur „Verbesserung der inneren ...   \n",
       "3           3  2024-10-18  Artikel 5 des Entwurfs „Verbesserung der inner...   \n",
       "4           4  2024-10-18  Gesetzentwurf „Verbesserung der Terrorismusbek...   \n",
       "\n",
       "    id             topic                                             url  \\\n",
       "0  939  Geschäftsordnung  /parlament/plenum/abstimmung/abstimmung?id=939   \n",
       "1  938         Parlament  /parlament/plenum/abstimmung/abstimmung?id=938   \n",
       "2  929           Inneres  /parlament/plenum/abstimmung/abstimmung?id=929   \n",
       "3  930           Inneres  /parlament/plenum/abstimmung/abstimmung?id=930   \n",
       "4  931           Inneres  /parlament/plenum/abstimmung/abstimmung?id=931   \n",
       "\n",
       "                                          drucksache  \n",
       "0  ['https://dserver.bundestag.de/btd/20/129/2012...  \n",
       "1  ['https://dserver.bundestag.de/btd/20/141/2014...  \n",
       "2  ['https://dserver.bundestag.de/btd/20/128/2012...  \n",
       "3  ['https://dserver.bundestag.de/btd/20/128/2012...  \n",
       "4  ['https://dserver.bundestag.de/btd/20/128/2012...  "
      ]
     },
     "execution_count": 85,
     "metadata": {},
     "output_type": "execute_result"
    }
   ],
   "source": [
    "df = pd.read_csv(SOURCE_PATH)\n",
    "df.head()"
   ]
  },
  {
   "cell_type": "markdown",
   "metadata": {},
   "source": [
    "### API Key"
   ]
  },
  {
   "cell_type": "code",
   "execution_count": 86,
   "metadata": {},
   "outputs": [],
   "source": [
    "API_KEY = 'I9FKdCn.hbfefNWCY336dL6x62vfwNKpoN2RZ1gp21' "
   ]
  },
  {
   "cell_type": "markdown",
   "metadata": {},
   "source": [
    "### Create Drucksache Details CSV"
   ]
  },
  {
   "cell_type": "code",
   "execution_count": 87,
   "metadata": {},
   "outputs": [],
   "source": [
    "def extract_document_number(url):\n",
    "    parts = url.split('/')\n",
    "    wahlperiode = parts[4]  # nach \"btd/\"\n",
    "    pdf_name = parts[-1].replace('.pdf', '')\n",
    "    dokumentnummer = pdf_name[len(wahlperiode):]\n",
    "    return f\"{wahlperiode}/{dokumentnummer}\""
   ]
  },
  {
   "cell_type": "code",
   "execution_count": 88,
   "metadata": {},
   "outputs": [],
   "source": [
    "def get_document_info(doc_numbers):\n",
    "    api_url = f\"https://search.dip.bundestag.de/api/v1/drucksache-text?f.dokumentnummer={doc_numbers}&format=json&apikey={API_KEY}\"\n",
    "    response = requests.get(api_url, headers={'accept': 'application/json'})\n",
    "    if response.status_code == 200:\n",
    "        data = response.json()\n",
    "        if data[\"numFound\"] > 0:\n",
    "            documents = data[\"documents\"]\n",
    "            doc_info = {}\n",
    "            for doc in documents:\n",
    "                doc_nr = doc[\"dokumentnummer\"]\n",
    "                doc_id = doc[\"id\"]\n",
    "                doc_type = doc.get(\"drucksachetyp\", None)\n",
    "                doc_text = doc.get(\"text\", None)\n",
    "                doc_info[doc_nr] = {\"id\": doc_id, \"type\": doc_type, \"text\": doc_text}\n",
    "            return doc_info\n",
    "    return {}"
   ]
  },
  {
   "cell_type": "code",
   "execution_count": 89,
   "metadata": {},
   "outputs": [],
   "source": [
    "def process_csv(input_file, output_file, drucksache_output, num_samples=None):\n",
    "    df = pd.read_csv(input_file)\n",
    "    if num_samples is not None:\n",
    "        df = df.head(num_samples)\n",
    "    df['drucksache_referenz'] = None\n",
    "    drucksache_data = []\n",
    "    for i, row in df.iterrows():\n",
    "        try:\n",
    "            urls = eval(row['drucksache'])\n",
    "            referenzen = []\n",
    "            doc_numbers = [extract_document_number(url) for url in urls]\n",
    "            doc_info = get_document_info('&f.dokumentnummer='.join(doc_numbers))\n",
    "            for url, doc_number in zip(urls, doc_numbers):\n",
    "                doc_data = doc_info.get(doc_number, {})\n",
    "                drucksache_data.append({\n",
    "                    \"referenznummer\": doc_data.get(\"id\", None),\n",
    "                    \"docNr\": doc_number,\n",
    "                    \"docTyp\": doc_data.get(\"type\", None),\n",
    "                    \"docText\": doc_data.get(\"text\", None)\n",
    "                })\n",
    "                referenzen.append(doc_data.get(\"id\", None))\n",
    "            df.at[i, 'drucksache_referenz'] = str(referenzen)\n",
    "        except Exception:\n",
    "            continue\n",
    "    df.to_csv(output_file, index=False)\n",
    "    drucksache_df = pd.DataFrame(drucksache_data)\n",
    "    drucksache_df.to_csv(drucksache_output, index=False)"
   ]
  },
  {
   "cell_type": "markdown",
   "metadata": {},
   "source": [
    "### Add DocType & DocNr"
   ]
  },
  {
   "cell_type": "code",
   "execution_count": 90,
   "metadata": {},
   "outputs": [
    {
     "name": "stdout",
     "output_type": "stream",
     "text": [
      "20/14302\n",
      "{'20/14302': {'id': '277864', 'type': 'Beschlussempfehlung und Bericht', 'text': 'Deutscher Bundestag Drucksache 20/14302 \\n20. Wahlperiode 18.12.2024 \\nBeschlussempfehlung und Bericht \\ndes Rechtsausschusses (6. Ausschuss) \\na) zu dem Gesetzentwurf der Fraktionen SPD, CDU/CSU, BÜNDNIS 90/DIE\\nGRÜNEN und FDP sowie des Abgeordneten Stefan Seidler\\n– Drucksache 20/12977 –\\nEntwurf eines Gesetzes zur Änderung des Grundgesetzes \\n(Artikel 93 und 94) \\nb) zu dem Gesetzentwurf der Fraktionen SPD, CDU/CSU, BÜNDNIS 90/DIE\\nGRÜNEN und FDP sowie des Abgeordneten Stefan Seidler\\n– Drucksache 20/12978 –\\nEntwurf eines Gesetzes zur Änderung des  \\nBundesverfassungsgerichtsgesetzes und des \\nUntersuchungsausschussgesetzes \\nA. Problem\\nZu Buchstabe a)\\nDie den Gesetzentwurf vorlegenden Fraktionen und der Abgeordnete Stefan\\nSeidler weisen darauf hin, dass sich das Grundgesetz (GG) für eine starke\\nVerfassungsgerichtsbarkeit entschieden habe. Diese zentrale Weichenstellung lasse sich \\nan den – auch im internationalen Vergleich – weitreichenden\\nEntscheidungsbefugnissen ablesen, die das GG dem Bundesverfassungsgericht zuweise. Auf\\ndieser Grundlage habe sich das Bundesverfassungsgericht als Garant der\\nfreiheitlichdemokratischen Ordnung und als für Staat und Gesellschaft wesentliches\\nVerfassungsorgan mittlerweile fest etabliert. \\nAls das GG am 24. Mai 1949 in Kraft getreten ist, sei die neuartige Institution \\n„Bundesverfassungsgericht“ verfassungsrechtlich nur teilweise näher ausgeformt \\ngewesen. Auch das Verständnis des Gerichts als Verfassungsorgan sei anfangs \\nV\\norabfassung - w\\nird durch die lektorierte Fassung ersetzt.\\nnoch nicht allgemein konsentiert gewesen. Es sei in der Folge sehr weitgehend \\nam einfachen Gesetzgeber gewesen, Stellung und Struktur des Gerichts näher zu \\nregeln. Dieser Aufgabe sei der Gesetzgeber mit dem Gesetz über das\\nBundesverfassungsgericht (Bundesverfassungsgerichtsgesetz – BVerfGG) nachgekommen. \\nAus dem Abstand von mittlerweile etwa 75 Jahren sei es angemessen, die den \\nStatus des Bundesverfassungsgerichts als Verfassungsorgan prägenden Elemente \\nim GG selbst deutlicher sichtbar werden zu lassen, wie dies bei Bundestag,\\nBundesrat, Bundespräsident und Bundesregierung bereits der Fall ist.  \\nDer Entwurf forme die Stellung und Struktur des Bundesverfassungsgerichts auf \\nder Ebene der Verfassung deutlicher aus. Hierzu ergänze er Artikel 93 und 94 GG \\npunktuell und ordne deren Inhalte systematisch neu. \\nDer Status des Bundesverfassungsgerichts als Verfassungsorgan, der bislang in \\n§ 1 Absatz 1 BVerfGG normiert sei, werde ausdrücklich grundgesetzlich\\nverankert. Dasselbe gelte für die unmittelbare Bindung der öffentlichen Gewalt an die\\nEntscheidungen des Bundesverfassungsgerichts. Außerdem hebe der Entwurf\\nzentrale Strukturvorgaben, die sich nach einhelliger Beurteilung bewährt hätten,\\nvom einfachen Gesetzesrecht auf die Ebene der Verfassung. Das seien neben der\\nGeschäftsordnungsautonomie die Zahl der Senate und ihre Besetzung mit je acht\\nRichterinnen oder Richtern, die Festschreibung der richterlichen Amtszeit auf\\nzwölf Jahre, die Festlegung der Altersgrenze sowie der Ausschluss der erneuten\\nWählbarkeit. Der Gesetzgeber bleibe berufen, Verfassung und Verfahren des\\nBundesverfassungsgerichts zu regeln. Er werde zusätzlich ermächtigt, auch eine\\nWahl durch das jeweils andere Wahlorgan für den Fall eines\\nNichtzustandekommens der Wahl in Bundestag oder Bundesrat vorzusehen.\\nArtikel 93 GG fasse künftig die Statusregelungen für das\\nBundesverfassungsgericht zusammen. Artikel 94 GG ordne in seiner neuen Fassung die\\nBindungswirkung der Entscheidungen des Bundesverfassungsgerichts an und regele die –\\ninhaltlich unveränderten – Zuständigkeiten des Gerichts. \\nZu Buchstabe b) \\nDie den Gesetzentwurf vorlegenden Fraktionen und der Abgeordnete Stefan\\nSeidler führen aus, dass der Entwurf eines Gesetzes zur Änderung des GG (Artikel 93 \\nund 94) unter anderem vorsehe, Artikel 93 GG um einen Gesetzesvorbehalt zu \\nergänzen, der es ermögliche, den dort zugelassenen\\nBlockadelösungsmechanismus im BVerfGG zu schaffen. Mit dem vorliegenden Gesetzentwurf solle von \\ndieser Öffnungsklausel Gebrauch gemacht werden. \\nDadurch solle die Funktionsfähigkeit des Bundesverfassungsgerichts für\\nSituationen sichergestellt werden, in denen die für die Wahl der Richterinnen und\\nRichter erforderliche Zweidrittelmehrheit in Bundestag (§ 6 BVerfGG) oder\\nBundesrat (§ 7 BVerfGG) absehbar nicht zustande komme. Der im Grundgesetz\\nzugelassene Mechanismus ermögliche eine Wahl durch das jeweils andere Wahlorgan. \\nZiel der Regelung sei es, auch für Blockadesituationen eine Nachbesetzung\\nvakanter Richterstellen unter Beibehaltung des bewährten Erfordernisses einer\\nqualifizierten Wahlmehrheit zu ermöglichen. \\nZur Lösung des Problems werde § 7a BVerfGG um einen Absatz 5 ergänzt, der \\nden im Grundgesetz zugelassenen Mechanismus zur Lösung von Wahlblockaden \\nschaffe und näher ausgestalte. Der neue Absatz 5 bestimme die im Grundgesetz \\nnicht konkret vorgegebene Frist, mit deren Ablauf das Wahlrecht vom anderen \\nWahlorgan ausgeübt werden könne. Er lege fest, dass in diesem Fall auch das \\nErsatzwahlorgan die Wahl vornehmen könne und stelle klar, dass ein vom\\nErsatzwahlorgan gewählter Richter als vom ursprünglich zuständigen Wahlorgan\\ngewählt gelte. \\nV\\norabfassung - w\\nird durch die lektorierte Fassung ersetzt.\\nDie Verweise auf die bisher in Artikel 93 GG und nunmehr in Artikel 94 GG \\ngeregelten Zuständigkeiten des Bundesverfassungsgerichts im BVerfGG sowie \\nim Untersuchungsausschussgesetz würden zudem an die neue Rechtslage\\nangepasst. \\nB. Lösung \\nZu Buchstabe a) \\nAnnahme des Gesetzentwurfs auf Drucksache 20/12977 in unveränderter \\nFassung mit den Stimmen der Fraktionen SPD, CDU/CSU, BÜND-\\nNIS 90/DIE GRÜNEN und FDP sowie der Gruppe Die Linke gegen die\\nStimmen der Fraktion der AfD. \\nZu Buchstabe b) \\nAnnahme des Gesetzentwurfs auf Drucksache 20/12978 in unveränderter \\nFassung mit den Stimmen der Fraktionen SPD, CDU/CSU, BÜND-\\nNIS 90/DIE GRÜNEN und FDP sowie der Gruppe Die Linke gegen die\\nStimmen der Fraktion der AfD. \\nC. Alternativen \\nKeine. \\nD. Kosten \\nWurden im Ausschuss nicht erörtert. \\nV\\norabfassung - w\\nird durch die lektorierte Fassung ersetzt.\\nBeschlussempfehlung \\nDer Bundestag wolle beschließen, \\na) den Gesetzentwurf auf Drucksache 20/12977 unverändert anzunehmen; \\nb) den Gesetzentwurf auf Drucksache 20/12978 unverändert anzunehmen. \\nBerlin, den 18. Dezember 2024 \\nDer Rechtsausschuss \\nElisabeth Winkelmeier-Becker \\nVorsitzende \\n \\n \\n \\n \\nDr. Johannes Fechner \\nBerichterstatter \\nAnsgar Heveling \\nBerichterstatter \\nDr. Till Steffen \\nBerichterstatter \\nKatrin Helling-Plahr \\nBerichterstatterin \\nFabian Jacobi \\nBerichterstatter \\nClara Bünger \\nBerichterstatterin \\nV\\norabfassung - w\\nird durch die lektorierte Fassung ersetzt.\\nBericht der Abgeordneten Dr. Johannes Fechner, Ansgar Heveling, Dr. Till Steffen, \\nKatrin Helling-Plahr, Fabian Jacobi und Clara Bünger \\nI. Überweisung \\nZu Buchstabe a) \\nDer Deutsche Bundestag hat den Gesetzentwurf auf Drucksache 20/12977 in seiner 191. Sitzung am 10.\\nOktober 2024 beraten und an den Rechtsausschuss zur federführenden Beratung und an den Ausschuss für Inneres und \\nHeimat zur Mitberatung überwiesen. \\nZu Buchstabe b) \\nDer Deutsche Bundestag hat den Gesetzentwurf auf Drucksache 20/12978 in seiner 191. Sitzung am 10.\\nOktober 2024 beraten und an den Rechtsausschuss zur federführenden Beratung und an den Ausschuss für Inneres und \\nHeimat zur Mitberatung überwiesen. \\nII. Stellungnahmen des mitberatenden Ausschusses \\nZu Buchstabe a) \\nDer Ausschuss für Inneres und Heimat hat die Vorlage auf Drucksache 20/12977 in seiner 96. Sitzung am \\n18. Dezember 2024 beraten. Er empfiehlt mit den Stimmen der Fraktionen SPD, CDU/CSU, BÜNDNIS 90/DIE \\nGRÜNEN und FDP sowie der Gruppe Die Linke gegen die Stimmen der Fraktion der AfD bei Abwesenheit der \\nGruppe BSW die Annahme des Gesetzentwurfs auf Drucksache 20/12977. \\nZu Buchstabe b) \\nDer Ausschuss für Inneres und Heimat hat die Vorlage auf Drucksache 20/12978 in seiner 96. Sitzung am \\n18. Dezember 2024 beraten. Er empfiehlt mit den Stimmen der Fraktionen SPD, CDU/CSU, BÜNDNIS 90/DIE \\nGRÜNEN und FDP sowie der Gruppe Die Linke gegen die Stimmen der Fraktion der AfD bei Abwesenheit der \\nGruppe BSW die Annahme des Gesetzentwurfs auf Drucksache 20/12978. \\nV\\norabfassung - w\\nird durch die lektorierte Fassung ersetzt.\\nIII. Beratungsverlauf und Beratungsergebnisse im federführenden Ausschuss \\nZu Buchstabe a) und b) \\nDer Rechtsausschuss hat in seiner 119. Sitzung am 16. Oktober 2024 beschlossen, eine öffentliche Anhörung zu \\nden Gesetzentwürfen auf Drucksachen 20/12977 und 20/12978 durchzuführen, die in seiner 124. Sitzung am \\n13. November 2024 stattgefunden hat. Hieran haben folgende Sachverständige teilgenommen: \\nProf. Dr. Hansjörg Huber, M.A. Professor für Staats- und Verwaltungsrecht, Hochschule \\nZittau/Görlitz \\nDr. Ulrich Karpenstein Vizepräsident Deutscher Anwaltverein e. V. \\nProf. Dr. Ferdinand Kirchhof Vizepräsident des Bundesverfassungsgerichts a. D. \\nProf. Dr. Dr. h.c. Andreas L. Paulus Universität Göttingen \\nProf. Dr. Heiko Sauer Lehrstuhl für deutsches europäisches Verfassungs- und \\nVerwaltungsrecht, Institut für Öffentliches Recht;\\nRheinische Friedrich-Wilhelms-Universität Bonn \\nDr. h. c. Wilhelm Schluckebier Richter am Bundesverfassungsgericht a. D. \\nProf. Dr. Karsten Schneider Johannes-Gutenberg-Universität Mainz, Fachbereich \\nRechts- und Wirtschaftswissenschaften, Professur für\\nöffentliches Recht, internationales Recht, Rechtstheorie \\nProf. Dr. Sophie Schönberger Institut für Deutsches und Internationales Parteienrecht \\nund Parteienforschung (PRUF), Heinrich-Heine-\\nUniversität Düsseldorf \\nDr. Robert Seegmüller Richter am Bundesverwaltungsgericht \\nProf. Dr. Paulina Starski Universität Freiburg \\nMaximilian Steinbeis Geschäftsführer der Verfassungsblog gGmbH \\nHinsichtlich der Ergebnisse der öffentlichen Anhörung wird auf das Protokoll der 124. Sitzung vom 13.\\nNovember 2024 mit den anliegenden Stellungnahmen der Sachverständigen sowie die Aufzeichnung der Sitzung in der \\nMediathek des Deutschen Bundestages verwiesen. \\nZu den Vorlagen lagen dem Ausschuss drei Petitionen vor. \\n \\nZu Buchstabe a) \\nIn seiner 129. Sitzung am 18. Dezember. 2024 hat der Rechtsausschuss den Gesetzentwurf auf\\nDrucksache 20/12977 abschließend beraten. \\nDer Rechtsausschuss empfiehlt mit den Stimmen der Fraktionen SPD, CDU/CSU, BÜNDNIS 90/DIE GRÜNEN \\nund FDP sowie der Gruppe Die Linke gegen die Stimmen der Fraktion der AfD die Annahme des Gesetzentwurfs. \\nV\\norabfassung - w\\nird durch die lektorierte Fassung ersetzt.\\nZu Buchstabe b) \\nIn seiner 129. Sitzung am 18. Dezember 2024 hat der Rechtsausschuss den Gesetzentwurf auf\\nDrucksache 20/12978 abschließend beraten. \\nDer Rechtsausschuss empfiehlt mit den Stimmen der Fraktionen SPD, CDU/CSU, BÜNDNIS 90/DIE GRÜNEN \\nund FDP sowie der Gruppe Die Linke gegen die Stimmen der Fraktion der AfD die Annahme des Gesetzentwurfs. \\nZuvor hat der Rechtsausschuss einen Änderungsantrag der Fraktion der AfD auf Ausschussdrucksache 20(6)124 \\nmit den Stimmen der Fraktionen SPD, CDU/CSU, BÜNDNIS 90/DIE GRÜNEN und FDP sowie der Gruppe Die \\nLinke gegen die Stimmen der Fraktion der AfD abgelehnt. Der Änderungsantrag hat einschließlich Begründung \\nfolgenden Wortlaut: \\n„Der Ausschuss wolle beschließen, dem Bundestag zu empfehlen, den Gesetzentwurf gemäß Drucksache 20/12978 \\nmit folgenden Maßgaben anzunehmen: \\n1. Artikel 1 wird wie folgt geändert: \\na. Nummer 1 wird wie folgt gefasst: \\n„§ 6 wird um folgenden Absatz 6 ergänzt: \\nDer Wahlausschuss leitet die von ihm beschlossenen Vorschläge auch an den Rechtsausschuss \\nweiter. Die Kandidaten stellen sich im Rechtsausschuss öffentlich vor. Sie erklären, welche\\nFraktion sie vorgeschlagen hat. Die Mitglieder des Rechtsausschusses können Fragen stellen zu\\nberuflicher und politischer Laufbahn der Bewerber. Fragen aus dem höchstpersönlichen Bereich \\nsind unzulässig. Ein Protokoll der offiziellen Vorstellung wird den Abgeordneten des\\nBundestages vor der Wahl zugeleitet.“ \\nb. Nummer 2 wird wie folgt gefasst: \\n„In § 7 werden folgende Sätze 2 und 3 angefügt: \\nVor der Wahl stellen sich die Kandidaten im Bundesrat öffentlich vor. § 6 Absatz 6 Sätze 3 bis 5 \\ngelten sinngemäß.“ \\nc. Nummer 3 wird wie folgt gefasst: \\n„In § 93d Absatz 1 werden folgende Sätze 3 bis 5 angefügt: \\nDie Ablehnung der Annahme der Verfassungsbeschwerde bedarf einer Begründung. Es genügt, \\ndie für die Nichtannahme im konkreten Sachverhalt wesentlichen Punkte darzulegen. Sie ist zu \\nveröffentlichen.“ \\nd. Die Nummern 4 bis 5 werden gestrichen. \\n2. Artikel 2 wird gestrichen. \\n3. Artikel 3 wird zu Artikel 2. \\n… \\nBegründung \\nZu Ziffer 1): \\na. Das Wahlverfahren der Richter zum Bundesverfassungsgericht gab und gibt immer wieder Anlass zu \\nKontroversen, ohne dass bis jetzt eine allseits befriedigende Lösung der erörterten Probleme gefunden \\nwurde. Wesentliche Punkte der geäußerten Kritik sind die mangelnde Transparenz und fehlende\\nMöglichkeit der öffentlichen Kontrolle, insbesondere der Vorwurf, dass sich faktisch die Entscheidung über \\ndie Auswahl der Mitglieder des Bundesverfassungsgerichts auf eine nirgends rechtlich verfasste interne \\n\"Arbeitsgruppe\" verschoben habe. Um dem Verlangen nach Transparenz und öffentlicher Kontrolle in \\neinem ersten Schritt nachzukommen, fordert der Änderungsantrag eine öffentliche Anhörung der \\nV\\norabfassung - w\\nird durch die lektorierte Fassung ersetzt.\\nKandidaten: Das Erfordernis interner Absprachen, die der Wahl vorausgehen müssten, wird begründet \\nmit der Notwendigkeit, eine Zweidrittelmehrheit für die Wahl der Bundesverfassungsrichter erreichen zu \\nmüssen, eine Bedingung, die nach der allgemeinen Lebenserfahrung nicht durch Diskussionen in der \\nÖffentlichkeit zu erreichen sei. In jedem Fall erfordert aber das Demokratieprinzip die Offenlegung der \\nTatsache des Stattfindens solcher Absprachen dem Souverän gegenüber. In einer öffentlichen Anhörung \\nsoll daher zur Sprache kommen, dass interne Absprachen stattgefunden haben, und auf Initiative welcher \\nFraktion der Bewerber zur Wahl vorgeschlagen wurde. Des Weiteren soll dem Vorwurf der fehlenden \\nÖffentlichkeit der Qualitäten der Bewerber begegnet werden. Den dagegen vorgebrachten Argumenten \\nder etwaigen Bloßstellung der Bewerber in einer öffentlichen Anhörung, des möglichen Herbeiführens \\neiner Befangenheit durch Antworten auf Fragen zu ihrer fachlichen Expertise sowie des Vergleichs mit \\nin geheimen Wahlen gewähltem Bundeskanzler und Bundespräsident ist entgegenzuhalten die bereits \\njetzt bestehende mögliche Befangenheit der zukünftigen Richter wegen ihres möglichen Wechsels direkt \\naus Bundestag, Bundesrat, Bundesregierung oder den entsprechenden Organen der Länder und auch \\nwegen der von den Kandidaten in der Regel bereits veröffentlichten Schriften sowie der Umstand, dass \\ndie Bewerber im Gegensatz zu Bundeskanzler und Bundespräsident der Öffentlichkeit nicht bekannt sind. \\nSchließlich stehen gerade Verfassungsrichter mit ihren grundsätzlichen Entscheidungen im Lichte der \\nÖffentlichkeit. Bewerber, die in einer parlamentarischen Demokratie für zwölf Jahre ein hohes Amt\\nbekleiden wollen, werden und müssen bereit und in der Lage sein, dem berechtigten Interesse der\\nBevölkerung Genüge zu tun. Die öffentliche Vorstellung soll in den Rechtsausschuss als der Repräsentanz aller \\nFachpolitiker verlegt werden, nachdem bereits intern Vorstellungsrunden vor nur einigen Fraktionen \\nstattfinden (dazu Voßkuhle in: Huber/Voßkuhle, Grundgesetz, 8. Auflage 2024, Rn. 14). Ein Protokoll \\nder Anhörung soll zudem den Bundestagsabgeordneten zur Kenntnisnahme vor den im Bundestag\\nstattfindenden Wahlen zugeleitet werden.  \\nDer neue § 7a Absatz 5 des Gesetzentwurfes von SPD, CDU/CSU, den Grünen, der FDP sowie dem \\nAbgeordneten Stefan Seidler schafft einen Ersatzwahlmechanismus. Diese Regelung ist abzulehnen und \\nwar daher zu streichen. Es wird eine gesetzliche Struktur geschaffen, die bewirkt, dass das Recht zur \\nWahl der Verfassungsrichter vom Bundestag auf den Bundesrat übergeht und umgekehrt, sofern in einem \\ndieser Wahlorgane bei der Richterwahl nicht die erforderliche Zweidrittelmehrheit erreicht wird. Wie im \\nVorfeld des Gesetzentwurfes immer wieder öffentlich verlautbart wurde, soll und kann damit die Findung \\neines notwendigen Konsenses mit denjenigen Fraktionen verhindert werden, die im Falle einer\\nSperrminorität das Zustandekommen einer notwendigen Zweidrittelmehrheit scheitern lassen könnten. Der\\nOpposition würde bei dieser Fallkonstellation mithin ihr Vorschlagsrecht genommen und im Falle des\\nEintretens des beschriebenen Sachverhaltes mehr als ein Drittel der Wähler von ihrer demokratischen\\nTeilhabe ausgeschlossen werden. Außerdem ist der beabsichtigte Ersatzwahlmechanismus bedenklich vor \\ndem Hintergrund der hinter dem Wahlverfahren stehenden Prinzipien. Mit der Einbindung von Bundesrat \\nund Bundestag bei dem Richterwahlverfahren werden unterschiedliche Zielrichtungen verfolgt. Über den \\nBundestag soll die Bindung unmittelbar an das Volk hergestellt werden. Durch die Beteiligung des\\nBundesrates soll eine den Funktionen und Kompetenzen des Gerichts entsprechende breite demokratische \\nLegitimationsgrundlage geschaffen, aber zusätzlich dem föderalen Prinzip Rechnung getragen werden \\n(vgl. nur Schorr, Annette; Die Rolle des Bundesrates bei der Wahl der Bundesverfassungsrichter, 2022, \\nS.21, m. w. N.). Mithin könnte der beabsichtigte Ersatzwahlmechanismus gegen das Demokratie-\\nbeziehungsweise Bundesstaatsprinzip verstoßen, je nachdem, welches Wahlorgan anstelle des anderen\\neinspringen müsste. An dieser Problematik vermag auch die bloße Fiktion von Absatz 5 Satz 2 nicht zu \\nrütteln. \\nb. § 7 Sätze 2 und 3 beziehen sich auf die durchzuführende öffentliche Anhörung der Kandidaten zur Wahl \\nder Bundesverfassungsrichter vor dem Wahlorgan Bundesrat. Da im Bundesrat kein dem\\nRechtsausschuss entsprechendes Organ existiert, findet die öffentliche Vorstellung der Kandidaten im Bundesrat \\nselbst statt. § 6 Absatz 6 Sätze 3 bis 5 gelten sinngemäß. \\n§ 13 des Entwurfs zum Bundesverfassungsgerichtsgesetz widmet sich den Folgeänderungen, die aufgrund \\ndes Gesetzentwurfs der Fraktionen SPD, CDU/CSU, BÜNDNIS 90/DIE GRÜNEN und FDP zur\\nÄnderung des Grundgesetzes (Artikel 93 und 94) (BT-Drucksache 20/12977) notwendig werden.  \\n§ 13 war daher zu streichen, da der in Bezug genommene Gesetzentwurf zur Änderung des Grundgesetzes \\nin Gänze abzulehnen ist: Dieser Gesetzentwurf zitiert insoweit bereits selbst: „Bereits der \\nV\\norabfassung - w\\nird durch die lektorierte Fassung ersetzt.\\nVerfassungskonvent von Herrenchiemsee hob in seinem Abschlussbericht hervor, dass das Grundgesetz \\n… `seiner Natur nach nur die wichtigsten Einzelheiten zu regeln´ habe“. Es ist nicht ersichtlich, warum \\nsich dies ausgerechnet rund 70 Jahre später anders verhalten sollte. Die Begründung des\\nGesetzentwurfes, die „Neuregelung solle dazu beitragen, Bestrebungen vorzubeugen, welche die Unabhängigkeit oder \\nFunktionsfähigkeit der Verfassungsgerichtsbarkeit in Frage stellen“ wollten, wirft die Frage auf, welche \\nVeranlassung dazu konkret oder zukünftig gegeben sein soll. Vor allem vor dem Hintergrund des\\nöffentlichen Kontextes, der Teilen der Opposition diesbezügliche Bestrebungen unterstellt, ist der\\nGesetzentwurf zur Änderung des Grundgesetzes abzulehnen.  \\nc. Im Zuge einer Entlastung des Bundesverfassungsgerichtes ist die Begründungspflicht hinsichtlich einer \\nNichtannahme einer Verfassungsbeschwerde schrittweise abgeschwächt worden. Zwar wurde bereits seit \\n1963 von einer Begründungspflicht abgesehen. Allerdings wurde diese Entlastung der Richter stets mit \\ndem Hinweis in der Gesetzesbegründung ergänzt, dass der für die Nichtannahme zur Entscheidung\\nmaßgebliche rechtliche Gesichtspunkt dargelegt werden soll. Mit dem fünften Gesetz zur Änderung des\\nGesetzes über das Bundesverfassungsgericht wurde die Begründungspflicht vollständig fallengelassen.\\nObwohl eine Vorprüfung zur Annahme einer Verfassungsklage aufgrund der Kriterien des § 93a\\nBundesverfassungsgerichtsgesetz stattfindet, sind deren Ergebnisse nicht darzulegen. Begründet wurde die\\nvollständige Befreiung von der Begründungspflicht mit einer Entlastung des Gerichts. Die mit der\\nAbschaffung der Begründungspflicht intendierte Entlastung steht im Konflikt zu der daraus resultierenden\\nIntransparenz, der infrage gestellten Legitimität des Bundesverfassungsgerichtes sowie einer fehlenden \\nKontrolle und Kontrollierbarkeit höchstrichterlicher Entscheidungen bei Verfassungsbeschwerden. Um \\ndiese Mängel beim Annahmeverfahren des höchsten deutschen Gerichtes und den damit verbundenen \\nReputationsschaden zu beheben, wird die Begründungspflicht wieder eingeführt. \\nAus den unter Buchstabe b) genannten Gründen ist die Änderung des § 71 des Entwurfs ebenfalls zu \\nstreichen. \\nd. Aus den unter Buchstabe b) genannten Gründen sind die Änderungen der §§ 76, 96 des Entwurfs ebenfalls \\nzu streichen. \\nZu Ziffer 2): \\nAuch bei der Änderung des § 36 Untersuchungsausschutzgesetz handelt es sich um eine Folgeänderung, die aus \\nden unter Ziffer 1), Buchstabe b) genannten Gründen zu streichen ist. \\nZu Ziffer 3): \\nEs handelt sich um eine notwendige Folgeänderung.“ \\n \\nZu Buchstabe a) und b) \\nDie Fraktion der CDU/CSU bedankte sich bei den Beteiligten, insbesondere den Vertretern des\\nBundesministeriums der Justiz (BMJ) und dem früheren Bundesminister Dr. Marco Buschmann, und begrüßte die gefundene \\nLösung. Sie wies darauf hin, dass das Bundesverfassungsgericht das einzige Verfassungsorgan der\\nBundesrepublik sei, zu dem es in der deutschen Geschichte kein direktes Vorbild gebe. Es sei bereits ein starkes Gericht, das \\nseine Stellung, insbesondere als Verfassungsorgan, durch seine Arbeit und weniger aufgrund gesetzlicher\\nGrundlagen erreicht habe und folglich auch nicht zwingend auf Schutz durch den Gesetzgeber angewiesen sei. Im\\nVergleich zu anderen Verfassungsorganen sei aber auffällig, dass die Regelungen zum Bundesverfassungsgericht im \\nGG eher rudimentär seien. Auch wenn es lange eine stabile rechtliche Situation gegeben habe, werde nun Abhilfe \\ngeschaffen, in dem das GG auch insofern eine Regelungsdichte erhalte, die mit der bei anderen\\nVerfassungsorganen vergleichbar sei. Dies sei im 75. Jahr des Bestehens des GG auch folgerichtig. \\nSelbstverständlich werde dabei auch der Zweck verfolgt, das Bundesverfassungsgericht vor Manipulationen zu \\nschützen. Man habe verschiedene Stimmen in der Öffentlichkeit vernommen, die weitergehende Regelungen\\nbefürwortet hätten. Der vorliegende Entwurf stelle aber eine gute Lösung dar. Man dürfe nicht aus Sorge vor großen \\nVerfassungskrisen, kleinere heraufbeschwören. So könne etwa die verfassungsrechtliche Festschreibung eines \\nWahlquorums auch für Blockaden genutzt werden, die sich mit einem Notfallmechanismus nur begrenzt lösen \\nließen. Neben dem materiellen Recht sei auch der Umgang mit dem Bundesverfassungsgericht entscheidend. \\nV\\norabfassung - w\\nird durch die lektorierte Fassung ersetzt.\\nIm vorliegenden Fall von einem abgestimmten Verhalten sogenannter ‚Kartellparteien‘ zu sprechen, wie dies die \\nFraktion der AfD tue, sei verfehlt. Dass das GG für seine Änderungen eine Zweidrittelmehrheit vorsehe, sei \\nGrundlage des bundesrepublikanischen, politischen Systems. Dass sich zu diesem Zweck Fraktionen\\nzusammenfänden, liege in der Natur der Sache. \\nDer Änderungsantrag der Fraktion der AfD offenbare im Übrigen deren Blick auf das Bundesverfassungsgericht, \\ndenn dessen Ziel, das Bundesverfassungsgericht lahmzulegen, sei evident. Es gehe nämlich nicht nur darum,\\nEntscheidungen, sondern auch die Nichtannahme zu begründen. Dass der Weg zum Bundesverfassungsgericht\\njedermann offenstehe, sei eine bewusste Entscheidung und eine Errungenschaft. Dann müsse es aber auch möglich \\nsein, dass das Bundesverfassungsgericht seine Arbeitsfähigkeit sicherstelle, indem es\\nNichtannahmeentscheidungen nicht zwingend begründen müsse. Das weitere Element des Änderungsantrages, öffentliche Anhörungen für \\nRichterkandidatinnen und -kandidaten durchzuführen, passe zur Strategie, das Bundesverfassungsgericht zu\\npolitisieren und potenzielle Kandidatinnen und Kandidaten in einen öffentlichen Schaukampf zu zwingen. Im\\nVergleich dazu habe sich die aktuelle Verfahrensweise, die darauf abziele, keine politischen Gerichte zu bekommen, \\nsondern solche, die sich an Recht und Gesetz orientierten, bewährt. \\nDie Fraktion der SPD bedankte sich ebenfalls für die gute Zusammenarbeit mit dem BMJ und verwies auf die \\nLage in Osteuropa, wo der Abbau des Rechtsstaates oftmals mit der Einschränkung der Verfassungsgerichte\\nbegonnen habe. Eine Angst vor der AfD sei nicht Hintergrund des Gesetzentwurfs. Die Notwendigkeit, dass der \\nBundesrat bei Änderungen des Bundesverfassungsgerichtsgesetzes zustimmen müsse, sei intensiv diskutiert\\nworden. Dies sei derzeit als nicht erforderlich erachtet worden, man behalte sich aber vor, gegebenenfalls\\nnachzusteuern. \\nZur Wahl der Verfassungsrichter sei klarzustellen, dass diese nicht auserkoren, sondern gewählt würden. Es gebe \\ndie Möglichkeit, Gespräche zu führen und Lebensläufe anzusehen. Das Verfahren laufe nach demokratischen \\nMaßstäben ab.  \\nDie Fraktion BÜNDNIS 90/DIE GRÜNEN bedankte sich ebenfalls für die vertrauensvolle Zusammenarbeit \\ninnerhalb des Parlaments, mit dem BMJ, insbesondere mit dem früheren Bundesminister Dr. Marco Buschmann, \\nund dem Bundesrat. Mit Blick auf die Rolle des Bundesrates hätte sie es für folgerichtig gehalten, eine Änderung \\nbeim Wahlmechanismus zumindest von der Zustimmung des Bundesrates abhängig zu machen. \\nLetztendlich hätten sich aber alle beteiligten Initianten bewegen müssen, um der gemeinsamen Verantwortung \\ngerecht zu werden. Es sei richtig, dass nur die Parlamente die demokratische Legitimation der Gerichte vermitteln \\nund Regeln ändern könnten, weshalb es wichtig sei, sorgfältig vorzugehen und einen breiten Konsens\\nherzustellen.  \\nDie Notwendigkeit dafür sehe man an im Ausschuss gestellten Anträgen, die man auch aus anderen Ländern \\nkenne und die etwa darauf abzielten, dass das Bundesverfassungsgericht alle seine Entscheidungen begründen \\nmöge. Es sei allseits bekannt, dass man den Rechtsweg zum Bundesverfassungsgericht nicht in derselben Breite \\nwie bisher offenhalten könne oder das Bundesverfassungsgericht lahmgelegt werde, wenn es jede Entscheidung \\nbegründet müsse. Die Initianten der vorliegenden Gesetzentwürfe dagegen hätten diese im Sinne der\\nFunktionsfähigkeit des Bundesverfassungsgerichts verhandelt. \\nDie Fraktion der FDP dankte ebenfalls für die kollegiale Zusammenarbeit und wies sodann auf die Verdienste \\ndes Bundesverfassungsgerichts hin. Nicht zuletzt daran, dass es auch in dieser Wahlperiode Grenzen aufgezeigt \\nhabe, zeige sich die Unabhängigkeit des Gerichts. Mit den Entwürfen habe man auf den Wunsch des\\nBundesverfassungsgerichts reagiert, dieses zu stärken. Diese Änderung bedürfe einer Zweidrittelmehrheit, weil man eine \\nverfassungsrechtliche Absicherung wolle. Dies bedeute aber nicht, dass dies nicht durch eine erneute\\nZweidrittelmehrheit geändert werden könnte. \\nDen Vorwurf der Fraktion der AfD, es bestehe ein System sogenannter ‚Kartellparteien‘, werde allein schon durch \\ndie wiederholte Wahl der AfD widerlegt. Auch sei es widersprüchlich, wenn die AfD einerseits ein sogenanntes \\n‚Kartell‘ kritisiere, andererseits aber an bestimmten Mechanismen, wie zum Beispiel bei der Parteienfinanzierung, \\nder Behandlung parteinaher Stiftungen oder der Einbeziehung bei der Wahl der Verfassungsrichter, beteiligt\\nwerden wolle. \\nDie Fraktion der AfD konstatierte, dass die Diskussion über die Stärkung des Bundesverfassungsgerichts unter \\nAusschluss der AfD-Fraktion und außerhalb der parlamentarischen Prozesse stattgefunden habe. Das \\nV\\norabfassung - w\\nird durch die lektorierte Fassung ersetzt.\\nBundesverfassungsgericht wie auch das Parlament sei zwischen den ‚Kartellparteien‘ aufgeteilt worden, was sich \\nauch am Verfahren und Inhalt der Entwürfe zeige. Damit werde die Legitimität des Gerichts durch das gesamte \\nVolk aufgehoben und Minderheiten die Möglichkeit genommen, an demokratischen Prozessen mitzuwirken. Dem \\nVorwurf der Fraktion der FDP, Teil des ‚Kartells‘ sein zu wollen, sei zu entgegnen, dass man nur eine\\nGleichbehandlung und eine Anwendung der Gesetze wolle.  \\nHätten die Entwürfe den Zweck verfolgt, das Gericht vor Manipulation zu schützen, wäre die Unterstützung der \\nFraktion der AfD sicher gewesen. Entsprechende Vorschläge zur Entpolitisierung der Justiz, zur Wahl der\\nVerfassungsrichter oder zur Begründungspflicht bei zurückweisenden Beschlüssen habe sie vorgelegt. Eine\\nÜberforderung des Gerichts mit einer Begründungspflicht sei nicht anzunehmen. Eine Nähe zwischen\\nBundesverfassungsgericht und politischen Entscheidungsträgern habe man zu Corona-Zeiten bei Treffen im Bundeskanzleramt \\nbeobachten können. Außerdem habe es noch nie eine Auswahl bei der Wahl der Verfassungsrichter gegeben. Ein \\nvorgeschlagener Richter komme nicht in den Wahlausschuss, sondern stelle sich bei den Fraktionen vor. Die \\nFraktion der AfD erfahre meist erst aus der Zeitung davon.  \\nNicht nachzuvollziehen sei schließlich, warum das Gesetz so schnell abgeschlossen werde. \\nDie Gruppe Die Linke führte aus, dass die Einlassungen der Fraktion der AfD zeigten, woher die Angriffe auf \\ndas Bundesverfassungsgericht insbesondere kämen. Eine starke Demokratie benötige starke Institutionen, nicht \\nzuletzt ein starkes Bundesverfassungsgericht. Die Gruppe Die Linke unterstütze deshalb die vorliegenden\\nEntwürfe. Die Beiträge der Fraktion der AfD auch im Plenum machten deutlich, dass es nicht um inhaltliche Kritik \\ngegenüber dem Bundesverfassungsgericht, sondern um eine Delegitimierung der Institution ‚\\nBundesverfassungsgericht‘ gehe. Folglich sei der Schutz des Bundesverfassungsgerichts geboten. Gegen solche Politik helfe aber \\nnicht nur ein Gesetz; vielmehr brauche es ein gebündeltes Maßnahmenpaket. \\nBerlin, den 18. Dezember 2024 \\nDr. Johannes Fechner \\nBerichterstatter \\nAnsgar Heveling \\nBerichterstatter \\nDr. Till Steffen \\nBerichterstatter \\nKatrin Helling-Plahr \\nBerichterstatterin \\nFabian Jacobi \\nBerichterstatter \\nClara Bünger \\nBerichterstatterin \\n \\nV\\norabfassung - w\\nird durch die lektorierte Fassung ersetzt.'}}\n"
     ]
    }
   ],
   "source": [
    "url = 'https://dserver.bundestag.de/btd/20/143/2014302.pdf'\n",
    "docNr = extract_document_number(url)\n",
    "print(docNr)\n",
    "\n",
    "doc_info = get_document_info(docNr)\n",
    "print(doc_info)"
   ]
  },
  {
   "cell_type": "code",
   "execution_count": 91,
   "metadata": {},
   "outputs": [],
   "source": [
    "process_csv(SOURCE_PATH, TARGET_PATH, DRUCKSACHE_PATH, num_samples=5) # None\n"
   ]
  },
  {
   "cell_type": "markdown",
   "metadata": {},
   "source": [
    "### Extract text for summary"
   ]
  },
  {
   "cell_type": "code",
   "execution_count": 108,
   "metadata": {},
   "outputs": [],
   "source": [
    "def extractGesetzentwurf(doc_text):\n",
    "    # Filter\n",
    "    problem_section = re.search(r'A\\. Problem und Ziel(.*?)(?=B\\. Lösung|$)', doc_text, re.DOTALL)\n",
    "    loesung_section = re.search(r'B\\. Lösung(.*?)(?=C\\. Alternativen|$)', doc_text, re.DOTALL)\n",
    "    \n",
    "    # Extracted texts\n",
    "    if problem_section and loesung_section:\n",
    "        problem_text = problem_section.group(1).strip()\n",
    "        loesung_text = loesung_section.group(1).strip()\n",
    "        \n",
    "        # Combine with [SEP] \n",
    "        extracted_text = f\"{problem_text} [SEP] {loesung_text}\"\n",
    "        return extracted_text\n",
    "    else:\n",
    "        return \"Sections not found\""
   ]
  },
  {
   "cell_type": "code",
   "execution_count": 109,
   "metadata": {},
   "outputs": [],
   "source": [
    "def extractForTyp2():\n",
    "    print(\"Extracting information for Typ2...\")\n",
    "    return \"Typ2 extraction complete.\"\n",
    "\n",
    "def extractForTyp3():\n",
    "    print(\"Extracting information for Typ3...\")\n",
    "    return \"Typ3 extraction complete.\"\n",
    "\n",
    "def extractForOtherTypes():\n",
    "    print(\"Extracting information for other document types...\")\n",
    "    return \"Other types extraction complete.\""
   ]
  },
  {
   "cell_type": "code",
   "execution_count": 110,
   "metadata": {},
   "outputs": [],
   "source": [
    "def process_drucksachen_details(csv_path, output_path, samples=None):\n",
    "    df = pd.read_csv(csv_path)\n",
    "    \n",
    "    if samples is not None:\n",
    "        df = df.head(samples)\n",
    "    \n",
    "    df['extractedText'] = None\n",
    "    \n",
    "    for i, row in df.iterrows():\n",
    "        doc_type = row['docTyp']\n",
    "        doc_text = row['docText']\n",
    "        \n",
    "        if doc_type == \"Gesetzentwurf\":\n",
    "            df.at[i, 'extractedText'] = extractGesetzentwurf(doc_text)\n",
    "        elif doc_type == \"Typ2\":\n",
    "            df.at[i, 'extractedText'] = extractForTyp2()\n",
    "        elif doc_type == \"Typ3\":\n",
    "            df.at[i, 'extractedText'] = extractForTyp3()\n",
    "        else:\n",
    "            df.at[i, 'extractedText'] = extractForOtherTypes()\n",
    "    \n",
    "    df.to_csv(output_path, index=False)\n"
   ]
  },
  {
   "cell_type": "markdown",
   "metadata": {},
   "source": [
    "### Test extraction for Gesetzentwurf"
   ]
  },
  {
   "cell_type": "code",
   "execution_count": 112,
   "metadata": {},
   "outputs": [],
   "source": [
    "referenznummer = 276076"
   ]
  },
  {
   "cell_type": "code",
   "execution_count": 113,
   "metadata": {},
   "outputs": [],
   "source": [
    "df = pd.read_csv(DRUCKSACHE_PATH)\n",
    "row = df[df['referenznummer'] == referenznummer].iloc[0]\n",
    "doc_text = row['docText']"
   ]
  },
  {
   "cell_type": "code",
   "execution_count": 114,
   "metadata": {},
   "outputs": [
    {
     "name": "stdout",
     "output_type": "stream",
     "text": [
      "Das Grundgesetz hat sich für eine starke Verfassungsgerichtsbarkeit entschieden. \n",
      "Diese zentrale Weichenstellung lässt sich an den – auch im internationalen\n",
      "Vergleich – weitreichenden Entscheidungsbefugnissen ablesen, die das Grundgesetz \n",
      "dem Bundesverfassungsgericht zuweist. Auf dieser Grundlage hat sich das\n",
      "Bundesverfassungsgericht als Garant der freiheitlich-demokratischen Ordnung und \n",
      "als für Staat und Gesellschaft wesentliches Verfassungsorgan mittlerweile fest \n",
      "etabliert. \n",
      "Als das Grundgesetz am 24. Mai 1949 in Kraft trat, war die neuartige Institution \n",
      "„Bundesverfassungsgericht“ verfassungsrechtlich nur teilweise näher ausgeformt. \n",
      "Auch das Verständnis des Gerichts als Verfassungsorgan war anfangs noch nicht \n",
      "allgemein konsentiert. Es oblag in der Folge sehr weitgehend dem einfachen\n",
      "Gesetzgeber, Stellung und Struktur des Gerichts näher zu regeln. Dieser Aufgabe ist \n",
      "der Gesetzgeber mit dem Gesetz über das Bundesverfassungsgericht\n",
      "(Bundesverfassungsgerichtsgesetz – BVerfGG) nachgekommen.  \n",
      "Aus dem Abstand von mittlerweile etwa 75 Jahren ist es angemessen, die den \n",
      "Status des Bundesverfassungsgerichts als Verfassungsorgan prägenden Elemente \n",
      "im Grundgesetz selbst deutlicher sichtbar werden zu lassen, wie dies bei\n",
      "Bundestag, Bundesrat, Bundespräsident und Bundesregierung bereits der Fall ist. Die \n",
      "Diskussion um eine verfassungsrechtliche Absicherung des\n",
      "Bundesverfassungsgerichts ist aber nicht neu. Es entspricht vielmehr seiner Stellung im\n",
      "Verfassungsgefüge, auf Grundgesetzebene ausführlichere Regelungen über das\n",
      "Bundesverfassungsgericht zu treffen. Dieser Standort trägt auch dem Grundkonsens Rechnung, \n",
      "das Gericht tagespolitischer Auseinandersetzung dauerhaft zu entziehen. Wenn \n",
      "statusprägende Regelungen für das Gericht verfassungsrechtlich vorgegeben sind, \n",
      "beugt das zugleich Bestrebungen vor, die Unabhängigkeit der\n",
      "Verfassungsgerichtsbarkeit in Frage zu stellen, wie sie seit einiger Zeit in einzelnen europäischen \n",
      "Ländern zu beobachten waren. [SEP] Der Entwurf formt die Stellung und Struktur des Bundesverfassungsgerichts auf \n",
      "der Ebene der Verfassung deutlicher aus. Hierzu ergänzt er Artikel 93 und 94 des \n",
      "Grundgesetzes (GG) punktuell und ordnet deren Inhalte systematisch neu.  \n",
      "Der Status des Bundesverfassungsgerichts als Verfassungsorgan, der bislang in \n",
      "§ 1 Absatz 1 BVerfGG normiert ist, wird ausdrücklich grundgesetzlich verankert. \n",
      "Dasselbe gilt für die unmittelbare Bindung der öffentlichen Gewalt an die\n",
      "Entscheidungen des Bundesverfassungsgerichts. Außerdem hebt der Entwurf\n",
      "zentrale Strukturvorgaben, die sich nach einhelliger Beurteilung bewährt haben, vom \n",
      "einfachen Gesetzesrecht auf die Ebene der Verfassung. Das sind neben der\n",
      "Geschäftsordnungsautonomie die Zahl der Senate und ihre Besetzung mit je acht \n",
      "Richterinnen oder Richtern, die Festschreibung der richterlichen Amtszeit auf \n",
      "zwölf Jahre, die Festlegung der Altersgrenze sowie der Ausschluss der erneuten \n",
      "Wählbarkeit. Der Gesetzgeber bleibt berufen, Verfassung und Verfahren des\n",
      "Bundesverfassungsgerichts zu regeln. Er wird zusätzlich ermächtigt, auch eine Wahl \n",
      "durch das jeweils andere Wahlorgan für den Fall eines Nichtzustandekommens \n",
      "der Wahl in Bundestag oder Bundesrat vorzusehen. \n",
      "Artikel 93 GG fasst künftig die Statusregelungen für das\n",
      "Bundesverfassungsgericht zusammen. Artikel 94 GG ordnet in seiner neuen Fassung die\n",
      "Bindungswirkung der Entscheidungen des Bundesverfassungsgerichts an und regelt die –\n",
      "inhaltlich unveränderten – Zuständigkeiten des Gerichts.\n"
     ]
    }
   ],
   "source": [
    "extracted_text = extractGesetzentwurf(doc_text)\n",
    "print(extracted_text)"
   ]
  },
  {
   "cell_type": "markdown",
   "metadata": {},
   "source": [
    "### Extract all"
   ]
  },
  {
   "cell_type": "code",
   "execution_count": 111,
   "metadata": {},
   "outputs": [
    {
     "name": "stdout",
     "output_type": "stream",
     "text": [
      "Extracting information for other document types...\n",
      "Extracting information for other document types...\n",
      "Extracting information for other document types...\n"
     ]
    }
   ],
   "source": [
    "process_drucksachen_details(DRUCKSACHE_PATH, DRUCKSACHE_WITH_DESC_PATH, samples=5)"
   ]
  }
 ],
 "metadata": {
  "kernelspec": {
   "display_name": "venv",
   "language": "python",
   "name": "python3"
  },
  "language_info": {
   "codemirror_mode": {
    "name": "ipython",
    "version": 3
   },
   "file_extension": ".py",
   "mimetype": "text/x-python",
   "name": "python",
   "nbconvert_exporter": "python",
   "pygments_lexer": "ipython3",
   "version": "3.12.8"
  }
 },
 "nbformat": 4,
 "nbformat_minor": 2
}
